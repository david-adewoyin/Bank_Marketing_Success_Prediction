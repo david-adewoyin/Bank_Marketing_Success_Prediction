{
 "cells": [
  {
   "cell_type": "markdown",
   "id": "6dd3376e",
   "metadata": {},
   "source": [
    "## Bank Telemarketing Campaigns Success Prediction  [EDA and model building]\n",
    "\n",
    "**The purpsose of this project** is to evaluate the effectiveness of a banking institution's direct marketing campaigns (phone calls).  We will gain valuable insights from Exploratory Data Analysis [EDA] that will assist telemarketers in determining important success factors for future campaigns.\n",
    "\n",
    "Finally, we will build a **machine learning classifier** capable of accurately predicting whether a given campaign will be successful."
   ]
  },
  {
   "cell_type": "code",
   "execution_count": 1,
   "id": "558cfc48",
   "metadata": {},
   "outputs": [],
   "source": [
    "# importing required packages\n",
    "import numpy as np\n",
    "import pandas as pd\n",
    "import seaborn as sns\n",
    "import matplotlib.pyplot as plt\n",
    "from scipy.stats import norm\n",
    "\n",
    "sns.set_theme(style=\"white\",palette=\"deep\")"
   ]
  },
  {
   "cell_type": "code",
   "execution_count": 2,
   "id": "1261ab56",
   "metadata": {},
   "outputs": [
    {
     "name": "stdout",
     "output_type": "stream",
     "text": [
      "Number of rows in the dataset :41188\n",
      "Number of features in the dataset :21\n"
     ]
    }
   ],
   "source": [
    "# reading in the  dataset\n",
    "df = pd.read_csv(\"bank_marketing.csv\",sep=';')\n",
    "print(f\"Number of rows in the dataset :{len(df)}\")\n",
    "print(f\"Number of features in the dataset :{len(df.columns)}\")"
   ]
  },
  {
   "cell_type": "markdown",
   "id": "8c822a11",
   "metadata": {},
   "source": [
    "## Understanding the data\n",
    "The first step in **exploratory data analysis** is to understand the data. We start by investigating the features, gaining insights into the values contained within them and how they relate to one another and the target feature using statistical and other visual methods."
   ]
  },
  {
   "cell_type": "code",
   "execution_count": 3,
   "id": "b589c0ca",
   "metadata": {},
   "outputs": [
    {
     "data": {
      "text/html": [
       "<div>\n",
       "<style scoped>\n",
       "    .dataframe tbody tr th:only-of-type {\n",
       "        vertical-align: middle;\n",
       "    }\n",
       "\n",
       "    .dataframe tbody tr th {\n",
       "        vertical-align: top;\n",
       "    }\n",
       "\n",
       "    .dataframe thead th {\n",
       "        text-align: right;\n",
       "    }\n",
       "</style>\n",
       "<table border=\"1\" class=\"dataframe\">\n",
       "  <thead>\n",
       "    <tr style=\"text-align: right;\">\n",
       "      <th></th>\n",
       "      <th>age</th>\n",
       "      <th>job</th>\n",
       "      <th>marital</th>\n",
       "      <th>education</th>\n",
       "      <th>default</th>\n",
       "      <th>housing</th>\n",
       "      <th>loan</th>\n",
       "      <th>contact</th>\n",
       "      <th>month</th>\n",
       "      <th>day_of_week</th>\n",
       "      <th>...</th>\n",
       "      <th>campaign</th>\n",
       "      <th>pdays</th>\n",
       "      <th>previous</th>\n",
       "      <th>poutcome</th>\n",
       "      <th>emp.var.rate</th>\n",
       "      <th>cons.price.idx</th>\n",
       "      <th>cons.conf.idx</th>\n",
       "      <th>euribor3m</th>\n",
       "      <th>nr.employed</th>\n",
       "      <th>y</th>\n",
       "    </tr>\n",
       "  </thead>\n",
       "  <tbody>\n",
       "    <tr>\n",
       "      <th>0</th>\n",
       "      <td>56</td>\n",
       "      <td>housemaid</td>\n",
       "      <td>married</td>\n",
       "      <td>basic.4y</td>\n",
       "      <td>no</td>\n",
       "      <td>no</td>\n",
       "      <td>no</td>\n",
       "      <td>telephone</td>\n",
       "      <td>may</td>\n",
       "      <td>mon</td>\n",
       "      <td>...</td>\n",
       "      <td>1</td>\n",
       "      <td>999</td>\n",
       "      <td>0</td>\n",
       "      <td>nonexistent</td>\n",
       "      <td>1.1</td>\n",
       "      <td>93.994</td>\n",
       "      <td>-36.4</td>\n",
       "      <td>4.857</td>\n",
       "      <td>5191.0</td>\n",
       "      <td>no</td>\n",
       "    </tr>\n",
       "    <tr>\n",
       "      <th>1</th>\n",
       "      <td>57</td>\n",
       "      <td>services</td>\n",
       "      <td>married</td>\n",
       "      <td>high.school</td>\n",
       "      <td>unknown</td>\n",
       "      <td>no</td>\n",
       "      <td>no</td>\n",
       "      <td>telephone</td>\n",
       "      <td>may</td>\n",
       "      <td>mon</td>\n",
       "      <td>...</td>\n",
       "      <td>1</td>\n",
       "      <td>999</td>\n",
       "      <td>0</td>\n",
       "      <td>nonexistent</td>\n",
       "      <td>1.1</td>\n",
       "      <td>93.994</td>\n",
       "      <td>-36.4</td>\n",
       "      <td>4.857</td>\n",
       "      <td>5191.0</td>\n",
       "      <td>no</td>\n",
       "    </tr>\n",
       "    <tr>\n",
       "      <th>2</th>\n",
       "      <td>37</td>\n",
       "      <td>services</td>\n",
       "      <td>married</td>\n",
       "      <td>high.school</td>\n",
       "      <td>no</td>\n",
       "      <td>yes</td>\n",
       "      <td>no</td>\n",
       "      <td>telephone</td>\n",
       "      <td>may</td>\n",
       "      <td>mon</td>\n",
       "      <td>...</td>\n",
       "      <td>1</td>\n",
       "      <td>999</td>\n",
       "      <td>0</td>\n",
       "      <td>nonexistent</td>\n",
       "      <td>1.1</td>\n",
       "      <td>93.994</td>\n",
       "      <td>-36.4</td>\n",
       "      <td>4.857</td>\n",
       "      <td>5191.0</td>\n",
       "      <td>no</td>\n",
       "    </tr>\n",
       "    <tr>\n",
       "      <th>3</th>\n",
       "      <td>40</td>\n",
       "      <td>admin.</td>\n",
       "      <td>married</td>\n",
       "      <td>basic.6y</td>\n",
       "      <td>no</td>\n",
       "      <td>no</td>\n",
       "      <td>no</td>\n",
       "      <td>telephone</td>\n",
       "      <td>may</td>\n",
       "      <td>mon</td>\n",
       "      <td>...</td>\n",
       "      <td>1</td>\n",
       "      <td>999</td>\n",
       "      <td>0</td>\n",
       "      <td>nonexistent</td>\n",
       "      <td>1.1</td>\n",
       "      <td>93.994</td>\n",
       "      <td>-36.4</td>\n",
       "      <td>4.857</td>\n",
       "      <td>5191.0</td>\n",
       "      <td>no</td>\n",
       "    </tr>\n",
       "    <tr>\n",
       "      <th>4</th>\n",
       "      <td>56</td>\n",
       "      <td>services</td>\n",
       "      <td>married</td>\n",
       "      <td>high.school</td>\n",
       "      <td>no</td>\n",
       "      <td>no</td>\n",
       "      <td>yes</td>\n",
       "      <td>telephone</td>\n",
       "      <td>may</td>\n",
       "      <td>mon</td>\n",
       "      <td>...</td>\n",
       "      <td>1</td>\n",
       "      <td>999</td>\n",
       "      <td>0</td>\n",
       "      <td>nonexistent</td>\n",
       "      <td>1.1</td>\n",
       "      <td>93.994</td>\n",
       "      <td>-36.4</td>\n",
       "      <td>4.857</td>\n",
       "      <td>5191.0</td>\n",
       "      <td>no</td>\n",
       "    </tr>\n",
       "  </tbody>\n",
       "</table>\n",
       "<p>5 rows × 21 columns</p>\n",
       "</div>"
      ],
      "text/plain": [
       "   age        job  marital    education  default housing loan    contact  \\\n",
       "0   56  housemaid  married     basic.4y       no      no   no  telephone   \n",
       "1   57   services  married  high.school  unknown      no   no  telephone   \n",
       "2   37   services  married  high.school       no     yes   no  telephone   \n",
       "3   40     admin.  married     basic.6y       no      no   no  telephone   \n",
       "4   56   services  married  high.school       no      no  yes  telephone   \n",
       "\n",
       "  month day_of_week  ...  campaign  pdays  previous     poutcome emp.var.rate  \\\n",
       "0   may         mon  ...         1    999         0  nonexistent          1.1   \n",
       "1   may         mon  ...         1    999         0  nonexistent          1.1   \n",
       "2   may         mon  ...         1    999         0  nonexistent          1.1   \n",
       "3   may         mon  ...         1    999         0  nonexistent          1.1   \n",
       "4   may         mon  ...         1    999         0  nonexistent          1.1   \n",
       "\n",
       "   cons.price.idx  cons.conf.idx  euribor3m  nr.employed   y  \n",
       "0          93.994          -36.4      4.857       5191.0  no  \n",
       "1          93.994          -36.4      4.857       5191.0  no  \n",
       "2          93.994          -36.4      4.857       5191.0  no  \n",
       "3          93.994          -36.4      4.857       5191.0  no  \n",
       "4          93.994          -36.4      4.857       5191.0  no  \n",
       "\n",
       "[5 rows x 21 columns]"
      ]
     },
     "execution_count": 3,
     "metadata": {},
     "output_type": "execute_result"
    }
   ],
   "source": [
    "## printing out the head of the data\n",
    "df.head()"
   ]
  },
  {
   "cell_type": "code",
   "execution_count": 4,
   "id": "1771b395",
   "metadata": {},
   "outputs": [
    {
     "data": {
      "text/plain": [
       "no     36548\n",
       "yes     4640\n",
       "Name: y, dtype: int64"
      ]
     },
     "execution_count": 4,
     "metadata": {},
     "output_type": "execute_result"
    }
   ],
   "source": [
    "df['y'].value_counts()"
   ]
  },
  {
   "cell_type": "markdown",
   "id": "cd762783",
   "metadata": {},
   "source": [
    "Our target feature is represented by **y** and contains the values 'yes' and 'no'. We can give it a more descriptive name and convert the values to numbers, making it easier for future data exploration."
   ]
  },
  {
   "cell_type": "code",
   "execution_count": 5,
   "id": "f54ec2ed",
   "metadata": {},
   "outputs": [],
   "source": [
    "df['target'] = df['y'].replace({\"yes\":1,'no':0})\n",
    "df = df.drop('y',axis=1)"
   ]
  },
  {
   "cell_type": "code",
   "execution_count": 6,
   "id": "b510ef49",
   "metadata": {},
   "outputs": [
    {
     "data": {
      "text/plain": [
       "0    0.887346\n",
       "1    0.112654\n",
       "Name: target, dtype: float64"
      ]
     },
     "execution_count": 6,
     "metadata": {},
     "output_type": "execute_result"
    }
   ],
   "source": [
    "## checking out the new target feature\n",
    "df['target'].value_counts(normalize=True)"
   ]
  },
  {
   "cell_type": "markdown",
   "id": "41be0f33",
   "metadata": {},
   "source": [
    "Now we'll go over the remaining features and try to learn more about them."
   ]
  },
  {
   "cell_type": "code",
   "execution_count": 7,
   "id": "c507fc81",
   "metadata": {},
   "outputs": [
    {
     "name": "stdout",
     "output_type": "stream",
     "text": [
      "<class 'pandas.core.frame.DataFrame'>\n",
      "RangeIndex: 41188 entries, 0 to 41187\n",
      "Data columns (total 21 columns):\n",
      " #   Column          Non-Null Count  Dtype  \n",
      "---  ------          --------------  -----  \n",
      " 0   age             41188 non-null  int64  \n",
      " 1   job             41188 non-null  object \n",
      " 2   marital         41188 non-null  object \n",
      " 3   education       41188 non-null  object \n",
      " 4   default         41188 non-null  object \n",
      " 5   housing         41188 non-null  object \n",
      " 6   loan            41188 non-null  object \n",
      " 7   contact         41188 non-null  object \n",
      " 8   month           41188 non-null  object \n",
      " 9   day_of_week     41188 non-null  object \n",
      " 10  duration        41188 non-null  int64  \n",
      " 11  campaign        41188 non-null  int64  \n",
      " 12  pdays           41188 non-null  int64  \n",
      " 13  previous        41188 non-null  int64  \n",
      " 14  poutcome        41188 non-null  object \n",
      " 15  emp.var.rate    41188 non-null  float64\n",
      " 16  cons.price.idx  41188 non-null  float64\n",
      " 17  cons.conf.idx   41188 non-null  float64\n",
      " 18  euribor3m       41188 non-null  float64\n",
      " 19  nr.employed     41188 non-null  float64\n",
      " 20  target          41188 non-null  int64  \n",
      "dtypes: float64(5), int64(6), object(10)\n",
      "memory usage: 6.6+ MB\n"
     ]
    }
   ],
   "source": [
    "## printing out the columns information\n",
    "df.info()"
   ]
  },
  {
   "cell_type": "markdown",
   "id": "4422cdbc",
   "metadata": {},
   "source": [
    "There appear to be no missing values in the dataset, but a closer look at some of the records reveals that missing values are stored as **Unknown**, which we will have to deal with later."
   ]
  },
  {
   "cell_type": "markdown",
   "id": "c992f1f2",
   "metadata": {},
   "source": [
    "### Examining the Job Feature Column\n",
    "**Question:** Which job has the **highest rate** of term deposit subscriptions?"
   ]
  },
  {
   "cell_type": "code",
   "execution_count": 8,
   "id": "04d1ee88",
   "metadata": {},
   "outputs": [
    {
     "name": "stdout",
     "output_type": "stream",
     "text": [
      "There are 12 different categories of jobs in the dataset \n",
      "\n"
     ]
    },
    {
     "data": {
      "image/png": "[encoded data removed]",
      "text/plain": [
       "<Figure size 1080x288 with 2 Axes>"
      ]
     },
     "metadata": {},
     "output_type": "display_data"
    }
   ],
   "source": [
    "## plotting the job column\n",
    "fig,axes = plt.subplots(1,2,sharey=True)\n",
    "fig.set_figheight(4), \n",
    "fig.set_figwidth(15)\n",
    "\n",
    "job_by = df.groupby(\"job\")['target'].mean().sort_values(ascending=False)\n",
    "sns.barplot(x= job_by.values,y=job_by.index,ax=axes[0],palette='deep')\n",
    "sns.countplot(data=df,y='job',ax=axes[1],order=job_by.index,palette='deep')\n",
    "axes[0].set(title=(\"Subscription rate by jobs\"))\n",
    "axes[1].set(title=(\"Jobs by count\"));\n",
    "\n",
    "jobs = df['job'].value_counts()\n",
    "print(f\"There are {len(jobs)} different categories of jobs in the dataset \\n\")\n",
    "\n",
    "\n",
    "## function to show bar level on bars\n",
    "def show_bar_label(ax,fmt):\n",
    "    for i in ax.containers:\n",
    "        ax.bar_label(i,fmt=fmt)\n",
    "        \n",
    "show_bar_label(axes[0],fmt='%.2f')\n",
    "show_bar_label(axes[1],fmt='%.0f')"
   ]
  },
  {
   "cell_type": "markdown",
   "id": "af19237f",
   "metadata": {},
   "source": [
    "Student appears to have the highest subscription rate of all job categories, but given their small sample size, let us conduct a hypothesis test to see if the subscription rate of **0.30%** is acceptable and not due to the chance.\n",
    "\n",
    "**H0** = proportion of student who subscribed is 0.30   \n",
    "**H1** = proportion of student who subscribe is less than 0.30  \n",
    "\n",
    "**using 5% significant level**, we reject the null hyptothesis if z score is lower than the z critical"
   ]
  },
  {
   "cell_type": "code",
   "execution_count": 458,
   "id": "04837126",
   "metadata": {},
   "outputs": [],
   "source": [
    "## Hypothesis testing\n",
    "p = 0.30\n",
    "q = 1 - p\n",
    "sample_size = 500\n",
    "student_df = df[df['job']=='student'].sample(sample_size, random_state=100)\n",
    "p_hat = student_df['target'].sum()/sample_size\n",
    "std = np.sqrt((p*q)/sample_size)"
   ]
  },
  {
   "cell_type": "code",
   "execution_count": 459,
   "id": "321e7435",
   "metadata": {},
   "outputs": [
    {
     "name": "stdout",
     "output_type": "stream",
     "text": [
      "z_score : 1.07\n",
      "critcal score : -1.64\n"
     ]
    }
   ],
   "source": [
    "z = (p_hat-p)/std\n",
    "z_critical = norm().ppf(0.05)\n",
    "\n",
    "print(f\"z_score : {z:.2f}\")\n",
    "print(f\"critcal score : {z_critical:.2f}\")"
   ]
  },
  {
   "cell_type": "markdown",
   "id": "0b26bbb4",
   "metadata": {},
   "source": [
    "**Conclusion**: At the 5% level of significance, the sample data do not provide sufficient evidence to reject the null hypothesis that the percentage of students who subscribed to a term deposit is less than **30%**.\n",
    "\n",
    "**Recommendation**: Because students are more likely to subscribe than other job categories, marketers should target them more in future campaigns, as they make up a relatively small portion of our current campaign outreach."
   ]
  },
  {
   "cell_type": "markdown",
   "id": "33b60a20",
   "metadata": {},
   "source": [
    "### Examining the Marital Status Column  \n",
    "**Question:** Does a person's **marital status** influence their likelihood to subscribe?\n",
    "\n",
    "According to the plot below, a customer's **marital status** has no discernible effect on subscription rate, so marital status cannot be used to predict whether someone will subscribe."
   ]
  },
  {
   "cell_type": "code",
   "execution_count": 11,
   "id": "be47c316",
   "metadata": {},
   "outputs": [
    {
     "data": {
      "image/png": "[encoded data removed]",
      "text/plain": [
       "<Figure size 432x288 with 1 Axes>"
      ]
     },
     "metadata": {},
     "output_type": "display_data"
    }
   ],
   "source": [
    "plt.title(\"Subscription rate by marital status\")\n",
    "ax = sns.barplot(data=df,y='marital',x='target');\n",
    "show_bar_label(ax,fmt ='   %.2f')"
   ]
  },
  {
   "cell_type": "markdown",
   "id": "6c998c89",
   "metadata": {},
   "source": [
    "### Examining the Education Feature Column\n",
    "**Question:** Is there an effect of **education** on subscription?\n",
    "\n",
    "According to the plot below, **education** has no discernible effect on subscriptions."
   ]
  },
  {
   "cell_type": "code",
   "execution_count": 12,
   "id": "d2a05591",
   "metadata": {},
   "outputs": [
    {
     "data": {
      "image/png": "[encoded data removed]",
      "text/plain": [
       "<Figure size 432x288 with 1 Axes>"
      ]
     },
     "metadata": {},
     "output_type": "display_data"
    }
   ],
   "source": [
    "plt.title(\"Subscription rate by Education\")\n",
    "ax = sns.barplot(data=df,y='education',x='target');\n",
    "show_bar_label(ax,fmt ='   %.2f')"
   ]
  },
  {
   "cell_type": "markdown",
   "id": "f15ddec9",
   "metadata": {},
   "source": [
    "### Renaming the education columns"
   ]
  },
  {
   "cell_type": "code",
   "execution_count": 13,
   "id": "c12afdb6",
   "metadata": {},
   "outputs": [],
   "source": [
    "df['education'] = df['education'].replace({'university.degree':\"higher education\",\n",
    "                                               'high.school':'high school',\n",
    "                                                'basic.4y':\"basic\",\n",
    "                                                'basic.6y':\"basic\",\n",
    "                                                'basic.9y':\"basic\",\n",
    "                                                \"professional.course\":\"higher education\",\n",
    "                                                'unknown':'unknown',\n",
    "                                                'illiterate':'illiterate',\n",
    "                                              })"
   ]
  },
  {
   "cell_type": "code",
   "execution_count": 14,
   "id": "fdf7b4c7",
   "metadata": {},
   "outputs": [
    {
     "data": {
      "image/png": "[encoded data removed]",
      "text/plain": [
       "<Figure size 432x288 with 1 Axes>"
      ]
     },
     "metadata": {},
     "output_type": "display_data"
    }
   ],
   "source": [
    "plt.title(\"Subscription rate by Education\")\n",
    "ax = sns.barplot(data=df,y='education',x='target');\n",
    "show_bar_label(ax,fmt ='   %.2f')"
   ]
  },
  {
   "cell_type": "markdown",
   "id": "50dc952b",
   "metadata": {},
   "source": [
    "### Examining the Day of Week Feature Column\n",
    "**Question:** Do certain days of week result in a higher subscription rate ?  \n",
    "\n",
    "According to the plot below, a specific **day of the week** is unlikely to produce a higher result than any other day of the week."
   ]
  },
  {
   "cell_type": "code",
   "execution_count": 15,
   "id": "6bf580b1",
   "metadata": {},
   "outputs": [
    {
     "data": {
      "image/png": "[encoded data removed]",
      "text/plain": [
       "<Figure size 432x288 with 1 Axes>"
      ]
     },
     "metadata": {},
     "output_type": "display_data"
    }
   ],
   "source": [
    "plt.title(\"Subscription rate by Day of Week\")\n",
    "ax = sns.barplot(data=df,x='day_of_week',y='target',ci=None);\n",
    "show_bar_label(ax,fmt ='%.2f')"
   ]
  },
  {
   "cell_type": "markdown",
   "id": "d20e17a5",
   "metadata": {},
   "source": [
    "### Examining the Month Feature Column\n",
    "**Question:** Do certain **months** have a higher rate of subscriptions?"
   ]
  },
  {
   "cell_type": "code",
   "execution_count": 16,
   "id": "aef6b495",
   "metadata": {},
   "outputs": [
    {
     "data": {
      "image/png": "[encoded data removed]",
      "text/plain": [
       "<Figure size 720x432 with 1 Axes>"
      ]
     },
     "metadata": {},
     "output_type": "display_data"
    }
   ],
   "source": [
    "fig,ax = plt.subplots(1,1)\n",
    "fig.set_figheight(6),fig.set_figwidth(10)\n",
    "plt.title(\"Subscription rate by Month\")\n",
    "ax = sns.barplot(data=df,x='month',y='target',ci=None);\n",
    "show_bar_label(ax,fmt ='%.2f')"
   ]
  },
  {
   "cell_type": "markdown",
   "id": "fa227820",
   "metadata": {},
   "source": [
    "A quick glance at the plot shows that certain months, such as **March** and **December**, have significantly higher subscription rates among customers. While the sample size appears to be the smallest among the months, hypothesis testing can show if the difference is indeed significant or due to chance."
   ]
  },
  {
   "cell_type": "code",
   "execution_count": 17,
   "id": "f62731d1",
   "metadata": {},
   "outputs": [
    {
     "data": {
      "text/html": [
       "<div>\n",
       "<style scoped>\n",
       "    .dataframe tbody tr th:only-of-type {\n",
       "        vertical-align: middle;\n",
       "    }\n",
       "\n",
       "    .dataframe tbody tr th {\n",
       "        vertical-align: top;\n",
       "    }\n",
       "\n",
       "    .dataframe thead th {\n",
       "        text-align: right;\n",
       "    }\n",
       "</style>\n",
       "<table border=\"1\" class=\"dataframe\">\n",
       "  <thead>\n",
       "    <tr style=\"text-align: right;\">\n",
       "      <th></th>\n",
       "      <th>dec</th>\n",
       "      <th>mar</th>\n",
       "      <th>sep</th>\n",
       "      <th>oct</th>\n",
       "      <th>apr</th>\n",
       "      <th>nov</th>\n",
       "      <th>jun</th>\n",
       "      <th>aug</th>\n",
       "      <th>jul</th>\n",
       "      <th>may</th>\n",
       "    </tr>\n",
       "  </thead>\n",
       "  <tbody>\n",
       "    <tr>\n",
       "      <th>month</th>\n",
       "      <td>182</td>\n",
       "      <td>546</td>\n",
       "      <td>570</td>\n",
       "      <td>718</td>\n",
       "      <td>2632</td>\n",
       "      <td>4101</td>\n",
       "      <td>5318</td>\n",
       "      <td>6178</td>\n",
       "      <td>7174</td>\n",
       "      <td>13769</td>\n",
       "    </tr>\n",
       "  </tbody>\n",
       "</table>\n",
       "</div>"
      ],
      "text/plain": [
       "       dec  mar  sep  oct   apr   nov   jun   aug   jul    may\n",
       "month  182  546  570  718  2632  4101  5318  6178  7174  13769"
      ]
     },
     "execution_count": 17,
     "metadata": {},
     "output_type": "execute_result"
    }
   ],
   "source": [
    "pd.DataFrame(df['month'].value_counts(ascending=True)).T"
   ]
  },
  {
   "cell_type": "markdown",
   "id": "53f00ed9",
   "metadata": {},
   "source": [
    "Choosing a null hypothesis of **40%** to really highlight the difference between other months.\n",
    "\n",
    "**H0** = proportion of customers who subscribed in the month of **March**  is equal to  **40%**  \n",
    "**H1** = proportion of customers who subscribe in the month of **March** is lesser than **40%**\n",
    "\n",
    "Using 5% significant level, we reject the null hyptothesis if the  z-score is lower than the z critical, we also carry out hypothesis testing for December, September and October also."
   ]
  },
  {
   "cell_type": "code",
   "execution_count": 18,
   "id": "3d47780e",
   "metadata": {},
   "outputs": [
    {
     "name": "stdout",
     "output_type": "stream",
     "text": [
      "For dec: z_score : 2.45; critical score: 1.64\n",
      "For mar: z_score : 5.03; critical score: 1.64\n",
      "For sep: z_score : 2.39; critical score: 1.64\n",
      "For oct: z_score : 2.12; critical score: 1.64\n"
     ]
    }
   ],
   "source": [
    "for mon in ['dec','mar','sep','oct']:\n",
    "    p = 0.40\n",
    "    q = 1-p\n",
    "    sample_size = len(df[ df['month'] == mon ])\n",
    "    student_df = df[ df['month'] == mon ]\n",
    "    p_hat = student_df['target'].sum() / sample_size\n",
    "    std = np.sqrt( (p*q) /sample_size )\n",
    "    \n",
    "    z = (p_hat - p) / std\n",
    "    z_critical = norm().ppf(0.95)\n",
    "    print(f\"For {mon}: z_score : {z:.2f}; critical score: {z_critical:.2f}\")"
   ]
  },
  {
   "cell_type": "markdown",
   "id": "e203bf4d",
   "metadata": {},
   "source": [
    "**Conclusion:** At the 5% level of significance, the sample data does not show enough evidence to reject the null hypothesis.  \n",
    "\n",
    "**Recommendation:** The company should look into whether there are any confounding factors as to why the given months have such a significant effect on subscription rates. They should start by looking into why these months have such a small sample size in the first place."
   ]
  },
  {
   "cell_type": "markdown",
   "id": "9f591233",
   "metadata": {},
   "source": [
    "### Examining the Poutcome Feature Column [outcome of the previous marketing campaign]\n",
    "\n",
    "**Question:** Does the previous campaign's outcome influence the current campaign?.\n",
    "\n",
    "**Conclusion:** According to the plot below, the previous marketing campaign's success has a **65%** impact on the current campaign's success.\n",
    "\n",
    "**Recommendation:** Marketers should contact more people who have previously subscribed successfully."
   ]
  },
  {
   "cell_type": "code",
   "execution_count": 19,
   "id": "7183bdd0",
   "metadata": {},
   "outputs": [
    {
     "data": {
      "image/png": "[encoded data removed]",
      "text/plain": [
       "<Figure size 432x288 with 1 Axes>"
      ]
     },
     "metadata": {},
     "output_type": "display_data"
    }
   ],
   "source": [
    "plt.title(\"Subscription rate by outcome of the previous marketing campaign\")\n",
    "ax = sns.barplot(data=df,x='poutcome',y='target');\n",
    "show_bar_label(ax,fmt ='   %.2f')"
   ]
  },
  {
   "cell_type": "markdown",
   "id": "515475ec",
   "metadata": {},
   "source": [
    "### Plotting the remaining categorical columns"
   ]
  },
  {
   "cell_type": "code",
   "execution_count": 20,
   "id": "e06a1565",
   "metadata": {},
   "outputs": [
    {
     "data": {
      "image/png": "[encoded data removed]",
      "text/plain": [
       "<Figure size 1080x288 with 4 Axes>"
      ]
     },
     "metadata": {},
     "output_type": "display_data"
    }
   ],
   "source": [
    "pl = ['housing','default','loan','contact']\n",
    "fig,axes = plt.subplots(1,len(pl),sharey=True)\n",
    "fig.set_figwidth(15)\n",
    "for i in range(len(pl)):\n",
    "    axes[i].set(title=(f\"Subscription rate by {pl[i]}\"))\n",
    "    sns.barplot(data=df,x=pl[i],y='target',ax=axes[i])"
   ]
  },
  {
   "cell_type": "markdown",
   "id": "0eb8b626",
   "metadata": {},
   "source": [
    "### Exploring the Numerical columns"
   ]
  },
  {
   "cell_type": "code",
   "execution_count": 21,
   "id": "85e96978",
   "metadata": {},
   "outputs": [
    {
     "data": {
      "text/html": [
       "<div>\n",
       "<style scoped>\n",
       "    .dataframe tbody tr th:only-of-type {\n",
       "        vertical-align: middle;\n",
       "    }\n",
       "\n",
       "    .dataframe tbody tr th {\n",
       "        vertical-align: top;\n",
       "    }\n",
       "\n",
       "    .dataframe thead th {\n",
       "        text-align: right;\n",
       "    }\n",
       "</style>\n",
       "<table border=\"1\" class=\"dataframe\">\n",
       "  <thead>\n",
       "    <tr style=\"text-align: right;\">\n",
       "      <th></th>\n",
       "      <th>count</th>\n",
       "      <th>mean</th>\n",
       "      <th>std</th>\n",
       "      <th>min</th>\n",
       "      <th>25%</th>\n",
       "      <th>50%</th>\n",
       "      <th>75%</th>\n",
       "      <th>max</th>\n",
       "    </tr>\n",
       "  </thead>\n",
       "  <tbody>\n",
       "    <tr>\n",
       "      <th>age</th>\n",
       "      <td>41188.0</td>\n",
       "      <td>40.024060</td>\n",
       "      <td>10.421250</td>\n",
       "      <td>17.000</td>\n",
       "      <td>32.000</td>\n",
       "      <td>38.000</td>\n",
       "      <td>47.000</td>\n",
       "      <td>98.000</td>\n",
       "    </tr>\n",
       "    <tr>\n",
       "      <th>duration</th>\n",
       "      <td>41188.0</td>\n",
       "      <td>258.285010</td>\n",
       "      <td>259.279249</td>\n",
       "      <td>0.000</td>\n",
       "      <td>102.000</td>\n",
       "      <td>180.000</td>\n",
       "      <td>319.000</td>\n",
       "      <td>4918.000</td>\n",
       "    </tr>\n",
       "    <tr>\n",
       "      <th>campaign</th>\n",
       "      <td>41188.0</td>\n",
       "      <td>2.567593</td>\n",
       "      <td>2.770014</td>\n",
       "      <td>1.000</td>\n",
       "      <td>1.000</td>\n",
       "      <td>2.000</td>\n",
       "      <td>3.000</td>\n",
       "      <td>56.000</td>\n",
       "    </tr>\n",
       "    <tr>\n",
       "      <th>pdays</th>\n",
       "      <td>41188.0</td>\n",
       "      <td>962.475454</td>\n",
       "      <td>186.910907</td>\n",
       "      <td>0.000</td>\n",
       "      <td>999.000</td>\n",
       "      <td>999.000</td>\n",
       "      <td>999.000</td>\n",
       "      <td>999.000</td>\n",
       "    </tr>\n",
       "    <tr>\n",
       "      <th>previous</th>\n",
       "      <td>41188.0</td>\n",
       "      <td>0.172963</td>\n",
       "      <td>0.494901</td>\n",
       "      <td>0.000</td>\n",
       "      <td>0.000</td>\n",
       "      <td>0.000</td>\n",
       "      <td>0.000</td>\n",
       "      <td>7.000</td>\n",
       "    </tr>\n",
       "    <tr>\n",
       "      <th>emp.var.rate</th>\n",
       "      <td>41188.0</td>\n",
       "      <td>0.081886</td>\n",
       "      <td>1.570960</td>\n",
       "      <td>-3.400</td>\n",
       "      <td>-1.800</td>\n",
       "      <td>1.100</td>\n",
       "      <td>1.400</td>\n",
       "      <td>1.400</td>\n",
       "    </tr>\n",
       "    <tr>\n",
       "      <th>cons.price.idx</th>\n",
       "      <td>41188.0</td>\n",
       "      <td>93.575664</td>\n",
       "      <td>0.578840</td>\n",
       "      <td>92.201</td>\n",
       "      <td>93.075</td>\n",
       "      <td>93.749</td>\n",
       "      <td>93.994</td>\n",
       "      <td>94.767</td>\n",
       "    </tr>\n",
       "    <tr>\n",
       "      <th>cons.conf.idx</th>\n",
       "      <td>41188.0</td>\n",
       "      <td>-40.502600</td>\n",
       "      <td>4.628198</td>\n",
       "      <td>-50.800</td>\n",
       "      <td>-42.700</td>\n",
       "      <td>-41.800</td>\n",
       "      <td>-36.400</td>\n",
       "      <td>-26.900</td>\n",
       "    </tr>\n",
       "    <tr>\n",
       "      <th>euribor3m</th>\n",
       "      <td>41188.0</td>\n",
       "      <td>3.621291</td>\n",
       "      <td>1.734447</td>\n",
       "      <td>0.634</td>\n",
       "      <td>1.344</td>\n",
       "      <td>4.857</td>\n",
       "      <td>4.961</td>\n",
       "      <td>5.045</td>\n",
       "    </tr>\n",
       "    <tr>\n",
       "      <th>nr.employed</th>\n",
       "      <td>41188.0</td>\n",
       "      <td>5167.035911</td>\n",
       "      <td>72.251528</td>\n",
       "      <td>4963.600</td>\n",
       "      <td>5099.100</td>\n",
       "      <td>5191.000</td>\n",
       "      <td>5228.100</td>\n",
       "      <td>5228.100</td>\n",
       "    </tr>\n",
       "    <tr>\n",
       "      <th>target</th>\n",
       "      <td>41188.0</td>\n",
       "      <td>0.112654</td>\n",
       "      <td>0.316173</td>\n",
       "      <td>0.000</td>\n",
       "      <td>0.000</td>\n",
       "      <td>0.000</td>\n",
       "      <td>0.000</td>\n",
       "      <td>1.000</td>\n",
       "    </tr>\n",
       "  </tbody>\n",
       "</table>\n",
       "</div>"
      ],
      "text/plain": [
       "                  count         mean         std       min       25%  \\\n",
       "age             41188.0    40.024060   10.421250    17.000    32.000   \n",
       "duration        41188.0   258.285010  259.279249     0.000   102.000   \n",
       "campaign        41188.0     2.567593    2.770014     1.000     1.000   \n",
       "pdays           41188.0   962.475454  186.910907     0.000   999.000   \n",
       "previous        41188.0     0.172963    0.494901     0.000     0.000   \n",
       "emp.var.rate    41188.0     0.081886    1.570960    -3.400    -1.800   \n",
       "cons.price.idx  41188.0    93.575664    0.578840    92.201    93.075   \n",
       "cons.conf.idx   41188.0   -40.502600    4.628198   -50.800   -42.700   \n",
       "euribor3m       41188.0     3.621291    1.734447     0.634     1.344   \n",
       "nr.employed     41188.0  5167.035911   72.251528  4963.600  5099.100   \n",
       "target          41188.0     0.112654    0.316173     0.000     0.000   \n",
       "\n",
       "                     50%       75%       max  \n",
       "age               38.000    47.000    98.000  \n",
       "duration         180.000   319.000  4918.000  \n",
       "campaign           2.000     3.000    56.000  \n",
       "pdays            999.000   999.000   999.000  \n",
       "previous           0.000     0.000     7.000  \n",
       "emp.var.rate       1.100     1.400     1.400  \n",
       "cons.price.idx    93.749    93.994    94.767  \n",
       "cons.conf.idx    -41.800   -36.400   -26.900  \n",
       "euribor3m          4.857     4.961     5.045  \n",
       "nr.employed     5191.000  5228.100  5228.100  \n",
       "target             0.000     0.000     1.000  "
      ]
     },
     "execution_count": 21,
     "metadata": {},
     "output_type": "execute_result"
    }
   ],
   "source": [
    "## Summary statistics of the numerical features\n",
    "df.describe().T"
   ]
  },
  {
   "cell_type": "markdown",
   "id": "cc708681",
   "metadata": {},
   "source": [
    "### Getting an overview through an Heatmap\n",
    "An heatmap can quickly provide an overview to explore the correlation between features"
   ]
  },
  {
   "cell_type": "code",
   "execution_count": 22,
   "id": "84197be5",
   "metadata": {},
   "outputs": [
    {
     "data": {
      "text/plain": [
       "<AxesSubplot:>"
      ]
     },
     "execution_count": 22,
     "metadata": {},
     "output_type": "execute_result"
    },
    {
     "data": {
      "image/png": "[encoded data removed]",
      "text/plain": [
       "<Figure size 432x432 with 2 Axes>"
      ]
     },
     "metadata": {},
     "output_type": "display_data"
    }
   ],
   "source": [
    "numeric_cols = df.select_dtypes(\"number\")\n",
    "fig,axes = plt.subplots(1,1,sharey=True)\n",
    "fig.set_figwidth(6)\n",
    "fig.set_figheight(6)\n",
    "cmap = sns.diverging_palette(220, 10, as_cmap=True)\n",
    "sns.heatmap(data=numeric_cols.corr(),vmax=.9 ,center=0, cmap=cmap,\n",
    "            square=True, linewidths=.5 ,annot=True,fmt='.1f',cbar_kws={\"shrink\": .7})"
   ]
  },
  {
   "cell_type": "markdown",
   "id": "7898cf01",
   "metadata": {},
   "source": [
    "A glance through the plot and we can see most of the features are not correlated with each other but some do have an high correlation such as **'emp.var.rate'** and **'euribor3m'** with perfect correlation of **1**. "
   ]
  },
  {
   "cell_type": "markdown",
   "id": "3c8a4d10",
   "metadata": {},
   "source": [
    "### Exploring the age distribution\n",
    "The age column seems to posses a lot outliers which we will have to handle later"
   ]
  },
  {
   "cell_type": "code",
   "execution_count": 23,
   "id": "1cac9010",
   "metadata": {},
   "outputs": [
    {
     "data": {
      "text/plain": [
       "<AxesSubplot:xlabel='age'>"
      ]
     },
     "execution_count": 23,
     "metadata": {},
     "output_type": "execute_result"
    },
    {
     "data": {
      "image/png": "[encoded data removed]",
      "text/plain": [
       "<Figure size 1080x432 with 2 Axes>"
      ]
     },
     "metadata": {},
     "output_type": "display_data"
    }
   ],
   "source": [
    "fig,axes = plt.subplots(1,2)\n",
    "fig.set_figwidth(15)\n",
    "fig.set_figheight(6)\n",
    "sns.kdeplot(data=df,x='age',hue='target',ax=axes[0])\n",
    "sns.boxplot(data=df,x='age',ax=axes[1])"
   ]
  },
  {
   "cell_type": "markdown",
   "id": "45cea166",
   "metadata": {},
   "source": [
    "## Feature Engineering and Model Building\n",
    "Following the completion of the initial exploration analysis, we will move on to feature engineering and the development of our classification model.\n",
    "\n",
    "It is critical to select an appropriate classification measure for a machine learning model, and this should be done with the objective of meeting the business need in mind. In this context, we will optimize for **recall**, supposing that not misclassifying a potential subscriber is more important than increasing precision.\n",
    "\n",
    "### Model Building\n",
    "We are going to train and fine tune the 3 machine learning models which are listed below:\n",
    "\n",
    "- Logistic Regression\n",
    "- Random Forest\n",
    "- LightGBM"
   ]
  },
  {
   "cell_type": "markdown",
   "id": "8c4e3aae",
   "metadata": {},
   "source": [
    "### Dropping the duration column \n",
    "The duration of a call is not known before the call is placed. Also, after the end of the call, the target is obviously known, so the duration feature is not needed for our classification model."
   ]
  },
  {
   "cell_type": "code",
   "execution_count": 24,
   "id": "f142d6e0",
   "metadata": {},
   "outputs": [],
   "source": [
    "df = df.drop(\"duration\",axis=1)"
   ]
  },
  {
   "cell_type": "code",
   "execution_count": 25,
   "id": "b5251efc",
   "metadata": {},
   "outputs": [
    {
     "data": {
      "text/plain": [
       "31    1947\n",
       "32    1846\n",
       "33    1833\n",
       "36    1780\n",
       "35    1759\n",
       "      ... \n",
       "89       2\n",
       "91       2\n",
       "94       1\n",
       "87       1\n",
       "95       1\n",
       "Name: age, Length: 78, dtype: int64"
      ]
     },
     "execution_count": 25,
     "metadata": {},
     "output_type": "execute_result"
    }
   ],
   "source": [
    "df['age'].value_counts()"
   ]
  },
  {
   "cell_type": "markdown",
   "id": "6609963f",
   "metadata": {},
   "source": [
    "### Binning the age column"
   ]
  },
  {
   "cell_type": "code",
   "execution_count": 26,
   "id": "03806bdd",
   "metadata": {},
   "outputs": [
    {
     "data": {
      "image/png": "[encoded data removed]",
      "text/plain": [
       "<Figure size 1080x288 with 1 Axes>"
      ]
     },
     "metadata": {},
     "output_type": "display_data"
    }
   ],
   "source": [
    "df['age_bins']=list(pd.cut(df['age'],bins=[16,25,30,40,50, 60,100],\n",
    "                      labels=[16,25,30,40,50,60]))\n",
    "fig,axes = plt.subplots(1,1,sharey=True)\n",
    "fig.set_figwidth(15)\n",
    "ax = sns.barplot(data=df,x='age_bins',y='target')\n",
    "show_bar_label(ax,fmt ='       %.2f')"
   ]
  },
  {
   "cell_type": "code",
   "execution_count": 27,
   "id": "399febd7",
   "metadata": {},
   "outputs": [
    {
     "data": {
      "text/plain": [
       "30    16385\n",
       "40    10240\n",
       "50     6270\n",
       "25     5717\n",
       "16     1666\n",
       "60      910\n",
       "Name: age_bins, dtype: int64"
      ]
     },
     "execution_count": 27,
     "metadata": {},
     "output_type": "execute_result"
    }
   ],
   "source": [
    "df['age_bins'].value_counts()"
   ]
  },
  {
   "cell_type": "code",
   "execution_count": 28,
   "id": "0b09c8e2",
   "metadata": {},
   "outputs": [],
   "source": [
    "# importing packages for building our model\n",
    "from lightgbm import LGBMClassifier\n",
    "from imblearn.pipeline import Pipeline\n",
    "from imblearn.over_sampling import RandomOverSampler, KMeansSMOTE,SVMSMOTE\n",
    "from imblearn.under_sampling import RandomUnderSampler\n",
    "from sklearn.ensemble import RandomForestClassifier\n",
    "from sklearn.linear_model import  LogisticRegression\n",
    "\n",
    "from sklearn.compose import ColumnTransformer\n",
    "from sklearn.model_selection import train_test_split,GridSearchCV\n",
    "from sklearn.preprocessing import OneHotEncoder,StandardScaler\n",
    "\n",
    "from sklearn.metrics import f1_score,precision_score,recall_score,confusion_matrix,ConfusionMatrixDisplay,accuracy_score"
   ]
  },
  {
   "cell_type": "code",
   "execution_count": 29,
   "id": "0327597a",
   "metadata": {},
   "outputs": [
    {
     "name": "stdout",
     "output_type": "stream",
     "text": [
      "Length of training_set: 33362\n",
      "Length of validation_set: 3707\n",
      "Length of test_set: 4119\n"
     ]
    }
   ],
   "source": [
    "## Creating our train and test set\n",
    "train  = df.drop(\"target\",axis=1)\n",
    "test  = df['target']\n",
    "\n",
    "X_train,X_test,y_train,y_test = train_test_split(train,test,test_size= 0.1, random_state=200)\n",
    "X_train,X_val,y_train,y_val = train_test_split(X_train,y_train,test_size= 0.1, random_state= 200)\n",
    "\n",
    "print(f\"Length of training_set: {len(X_train)}\")\n",
    "print(f\"Length of validation_set: {len(X_val)}\")\n",
    "print(f\"Length of test_set: {len(X_test)}\")"
   ]
  },
  {
   "cell_type": "code",
   "execution_count": 30,
   "id": "5c0d35d5",
   "metadata": {},
   "outputs": [],
   "source": [
    "## creating a pipeline\n",
    "pipeline = ColumnTransformer([\n",
    "        ('one hot encoding',OneHotEncoder(),['marital','default','housing','loan','month',\n",
    "                                             'education','job', 'contact','poutcome','age_bins',\n",
    "                                            ]),\n",
    "        (\"scaler\",StandardScaler(),['campaign','pdays','previous', \n",
    "                                    'emp.var.rate','cons.price.idx','previous',\n",
    "                                    'cons.conf.idx','nr.employed', 'euribor3m'\n",
    "                                   ]),\n",
    "        (\"drop\",\"drop\",['day_of_week'])\n",
    "],remainder='drop',verbose_feature_names_out=True)\n",
    "\n",
    "pipeline.fit(X_train)\n",
    "X_pipeline = pipeline.transform(X_train)\n",
    "\n",
    "\n",
    "over = SVMSMOTE()\n",
    "under=RandomUnderSampler()\n",
    "\n",
    "steps = [('over', over),\n",
    "         ('under',under)]\n",
    "\n",
    "samp_pipeline = Pipeline(steps=steps)\n",
    "X_sampled_train,y_sampled_train = samp_pipeline.fit_resample(X_pipeline,y_train)"
   ]
  },
  {
   "cell_type": "code",
   "execution_count": 31,
   "id": "eef6a6a9",
   "metadata": {},
   "outputs": [],
   "source": [
    "X_sampled_train,y_sampled_train = samp_pipeline.fit_resample(X_pipeline,y_train)"
   ]
  },
  {
   "cell_type": "markdown",
   "id": "17c57228",
   "metadata": {},
   "source": [
    "### 1. Logistic Regression\n",
    "We are going to finally build our first model using logistic regression."
   ]
  },
  {
   "cell_type": "code",
   "execution_count": 436,
   "id": "3d6e17b6",
   "metadata": {},
   "outputs": [
    {
     "name": "stdout",
     "output_type": "stream",
     "text": [
      "Grid Search best score: 0.7189627137832273\n"
     ]
    },
    {
     "data": {
      "text/plain": [
       "{'C': 0.1, 'class_weight': {0: 3, 1: 0.7}}"
      ]
     },
     "execution_count": 436,
     "metadata": {},
     "output_type": "execute_result"
    }
   ],
   "source": [
    "param_grid = {'C':[0.1,0.5,0.9],\n",
    "              'class_weight':[{0:0.1,1:0.9},{0:3,1:0.7}]\n",
    "             }\n",
    "gs = GridSearchCV(LogisticRegression(max_iter=10_000) ,param_grid = param_grid, cv= 5, scoring='f1')\n",
    "gs.fit(X_sampled_train,y_sampled_train)\n",
    "\n",
    "print(f\"Grid Search best score: {gs.best_score_}\")\n",
    "gs.best_params_"
   ]
  },
  {
   "cell_type": "code",
   "execution_count": 449,
   "id": "73b23104",
   "metadata": {},
   "outputs": [
    {
     "data": {
      "text/html": [
       "<div>\n",
       "<style scoped>\n",
       "    .dataframe tbody tr th:only-of-type {\n",
       "        vertical-align: middle;\n",
       "    }\n",
       "\n",
       "    .dataframe tbody tr th {\n",
       "        vertical-align: top;\n",
       "    }\n",
       "\n",
       "    .dataframe thead th {\n",
       "        text-align: right;\n",
       "    }\n",
       "</style>\n",
       "<table border=\"1\" class=\"dataframe\">\n",
       "  <thead>\n",
       "    <tr style=\"text-align: right;\">\n",
       "      <th></th>\n",
       "      <th>0</th>\n",
       "    </tr>\n",
       "  </thead>\n",
       "  <tbody>\n",
       "    <tr>\n",
       "      <th>precision</th>\n",
       "      <td>0.756277</td>\n",
       "    </tr>\n",
       "    <tr>\n",
       "      <th>recall</th>\n",
       "      <td>0.854826</td>\n",
       "    </tr>\n",
       "    <tr>\n",
       "      <th>f1 score</th>\n",
       "      <td>0.802537</td>\n",
       "    </tr>\n",
       "    <tr>\n",
       "      <th>accuracy</th>\n",
       "      <td>0.789672</td>\n",
       "    </tr>\n",
       "  </tbody>\n",
       "</table>\n",
       "</div>"
      ],
      "text/plain": [
       "                  0\n",
       "precision  0.756277\n",
       "recall     0.854826\n",
       "f1 score   0.802537\n",
       "accuracy   0.789672"
      ]
     },
     "execution_count": 449,
     "metadata": {},
     "output_type": "execute_result"
    }
   ],
   "source": [
    "log = LogisticRegression(C=0.1,max_iter=10000,class_weight={0:0.3,1:0.7})\n",
    "log.fit(X_sampled_train,y_sampled_train);\n",
    "\n",
    "pred =  log.predict_proba(X_sampled_train)[:,1]>=0.488\n",
    "prec  = precision_score(y_sampled_train,pred,pos_label=1)\n",
    "recall  = recall_score(y_sampled_train,pred,pos_label=1)\n",
    "f1 = f1_score(y_sampled_train,pred)\n",
    "acc  = accuracy_score(y_sampled_train,pred)\n",
    "\n",
    "pd.DataFrame([[prec,recall,f1,acc]],columns=['precision','recall','f1 score','accuracy']).T"
   ]
  },
  {
   "cell_type": "markdown",
   "id": "33e88799",
   "metadata": {},
   "source": [
    "### Evaluating on the Validation set"
   ]
  },
  {
   "cell_type": "code",
   "execution_count": 438,
   "id": "08b7d72b",
   "metadata": {},
   "outputs": [
    {
     "data": {
      "text/html": [
       "<div>\n",
       "<style scoped>\n",
       "    .dataframe tbody tr th:only-of-type {\n",
       "        vertical-align: middle;\n",
       "    }\n",
       "\n",
       "    .dataframe tbody tr th {\n",
       "        vertical-align: top;\n",
       "    }\n",
       "\n",
       "    .dataframe thead th {\n",
       "        text-align: right;\n",
       "    }\n",
       "</style>\n",
       "<table border=\"1\" class=\"dataframe\">\n",
       "  <thead>\n",
       "    <tr style=\"text-align: right;\">\n",
       "      <th></th>\n",
       "      <th>0</th>\n",
       "    </tr>\n",
       "  </thead>\n",
       "  <tbody>\n",
       "    <tr>\n",
       "      <th>precision</th>\n",
       "      <td>0.244915</td>\n",
       "    </tr>\n",
       "    <tr>\n",
       "      <th>recall</th>\n",
       "      <td>0.746898</td>\n",
       "    </tr>\n",
       "    <tr>\n",
       "      <th>f1 score</th>\n",
       "      <td>0.368873</td>\n",
       "    </tr>\n",
       "    <tr>\n",
       "      <th>accuracy</th>\n",
       "      <td>0.722147</td>\n",
       "    </tr>\n",
       "  </tbody>\n",
       "</table>\n",
       "</div>"
      ],
      "text/plain": [
       "                  0\n",
       "precision  0.244915\n",
       "recall     0.746898\n",
       "f1 score   0.368873\n",
       "accuracy   0.722147"
      ]
     },
     "execution_count": 438,
     "metadata": {},
     "output_type": "execute_result"
    }
   ],
   "source": [
    "val = pipeline.transform(X_val)\n",
    "pred = log.predict_proba(val)[:,1]>=0.48\n",
    "\n",
    "prec = precision_score(y_val,pred,pos_label=1)\n",
    "recall = recall_score(y_val,pred,pos_label=1)\n",
    "f1 = f1_score(y_val,pred)\n",
    "acc  = accuracy_score(y_val,pred)\n",
    "\n",
    "pd.DataFrame([[prec,recall,f1,acc]],columns=['precision','recall','f1 score','accuracy']).T"
   ]
  },
  {
   "cell_type": "code",
   "execution_count": 35,
   "id": "6c7fc346",
   "metadata": {},
   "outputs": [
    {
     "data": {
      "text/plain": [
       "<sklearn.metrics._plot.confusion_matrix.ConfusionMatrixDisplay at 0x7f27d517da00>"
      ]
     },
     "execution_count": 35,
     "metadata": {},
     "output_type": "execute_result"
    },
    {
     "data": {
      "image/png": "[encoded data removed]",
      "text/plain": [
       "<Figure size 432x288 with 2 Axes>"
      ]
     },
     "metadata": {},
     "output_type": "display_data"
    }
   ],
   "source": [
    "## displaying the confusion matrix\n",
    "cm = confusion_matrix(y_val, pred, labels=log.classes_)\n",
    "disp = ConfusionMatrixDisplay(confusion_matrix=cm,\n",
    "                           display_labels=log.classes_)\n",
    "disp.plot()"
   ]
  },
  {
   "cell_type": "markdown",
   "id": "56749903",
   "metadata": {},
   "source": [
    "### 2. Random Forest\n",
    "We'll use **Random Forest** to build our second model. "
   ]
  },
  {
   "cell_type": "code",
   "execution_count": 36,
   "id": "22bd4595",
   "metadata": {
    "scrolled": true
   },
   "outputs": [
    {
     "name": "stdout",
     "output_type": "stream",
     "text": [
      "Grid Search best score: 0.8384751682566686\n",
      "{'max_depth': 11, 'min_samples_leaf': 2, 'min_samples_split': 3}\n"
     ]
    }
   ],
   "source": [
    "param_grid={\n",
    "    'max_depth':[9,11],  \n",
    "     'min_samples_leaf': [2,3,5],\n",
    "     'min_samples_split':[2,3,6,7],\n",
    "    }\n",
    "\n",
    "gs = GridSearchCV(RandomForestClassifier(),param_grid = param_grid, cv=5, scoring='f1')\n",
    "gs.fit(X_sampled_train,y_sampled_train)\n",
    "print(f\"Grid Search best score: {gs.best_score_}\")\n",
    "print(gs.best_params_)"
   ]
  },
  {
   "cell_type": "code",
   "execution_count": 91,
   "id": "1b93dc43",
   "metadata": {},
   "outputs": [
    {
     "data": {
      "text/html": [
       "<div>\n",
       "<style scoped>\n",
       "    .dataframe tbody tr th:only-of-type {\n",
       "        vertical-align: middle;\n",
       "    }\n",
       "\n",
       "    .dataframe tbody tr th {\n",
       "        vertical-align: top;\n",
       "    }\n",
       "\n",
       "    .dataframe thead th {\n",
       "        text-align: right;\n",
       "    }\n",
       "</style>\n",
       "<table border=\"1\" class=\"dataframe\">\n",
       "  <thead>\n",
       "    <tr style=\"text-align: right;\">\n",
       "      <th></th>\n",
       "      <th>0</th>\n",
       "    </tr>\n",
       "  </thead>\n",
       "  <tbody>\n",
       "    <tr>\n",
       "      <th>precision</th>\n",
       "      <td>0.804404</td>\n",
       "    </tr>\n",
       "    <tr>\n",
       "      <th>recall</th>\n",
       "      <td>0.948985</td>\n",
       "    </tr>\n",
       "    <tr>\n",
       "      <th>f1 score</th>\n",
       "      <td>0.870734</td>\n",
       "    </tr>\n",
       "    <tr>\n",
       "      <th>accuracy</th>\n",
       "      <td>0.859117</td>\n",
       "    </tr>\n",
       "  </tbody>\n",
       "</table>\n",
       "</div>"
      ],
      "text/plain": [
       "                  0\n",
       "precision  0.804404\n",
       "recall     0.948985\n",
       "f1 score   0.870734\n",
       "accuracy   0.859117"
      ]
     },
     "execution_count": 91,
     "metadata": {},
     "output_type": "execute_result"
    }
   ],
   "source": [
    "clf = RandomForestClassifier(max_depth=11, min_samples_leaf=2, min_samples_split=3 ,class_weight={0:0.3,1:0.7}\n",
    "                            )\n",
    "clf.fit(X_sampled_train,y_sampled_train)\n",
    "pred =  clf.predict_proba(X_sampled_train)[:,1]>=0.43\n",
    "\n",
    "prec  = precision_score(y_sampled_train,pred,pos_label=1)\n",
    "recall  = recall_score(y_sampled_train,pred,pos_label=1)\n",
    "f1 = f1_score(y_sampled_train,pred)\n",
    "acc  = accuracy_score(y_sampled_train,pred)\n",
    "\n",
    "pd.DataFrame([[prec,recall,f1,acc]],columns=['precision','recall','f1 score','accuracy']).T"
   ]
  },
  {
   "cell_type": "markdown",
   "id": "64516262",
   "metadata": {},
   "source": [
    "### Evaluating on the Validation set"
   ]
  },
  {
   "cell_type": "code",
   "execution_count": 456,
   "id": "df0d8311",
   "metadata": {},
   "outputs": [
    {
     "data": {
      "text/html": [
       "<div>\n",
       "<style scoped>\n",
       "    .dataframe tbody tr th:only-of-type {\n",
       "        vertical-align: middle;\n",
       "    }\n",
       "\n",
       "    .dataframe tbody tr th {\n",
       "        vertical-align: top;\n",
       "    }\n",
       "\n",
       "    .dataframe thead th {\n",
       "        text-align: right;\n",
       "    }\n",
       "</style>\n",
       "<table border=\"1\" class=\"dataframe\">\n",
       "  <thead>\n",
       "    <tr style=\"text-align: right;\">\n",
       "      <th></th>\n",
       "      <th>0</th>\n",
       "    </tr>\n",
       "  </thead>\n",
       "  <tbody>\n",
       "    <tr>\n",
       "      <th>precision</th>\n",
       "      <td>0.266240</td>\n",
       "    </tr>\n",
       "    <tr>\n",
       "      <th>recall</th>\n",
       "      <td>0.722084</td>\n",
       "    </tr>\n",
       "    <tr>\n",
       "      <th>f1 score</th>\n",
       "      <td>0.389037</td>\n",
       "    </tr>\n",
       "    <tr>\n",
       "      <th>accuracy</th>\n",
       "      <td>0.753439</td>\n",
       "    </tr>\n",
       "  </tbody>\n",
       "</table>\n",
       "</div>"
      ],
      "text/plain": [
       "                  0\n",
       "precision  0.266240\n",
       "recall     0.722084\n",
       "f1 score   0.389037\n",
       "accuracy   0.753439"
      ]
     },
     "execution_count": 456,
     "metadata": {},
     "output_type": "execute_result"
    }
   ],
   "source": [
    "val = pipeline.transform(X_val)\n",
    "pred = clf.predict_proba(val)[:,1] >= 0.43\n",
    "\n",
    "prec = precision_score(y_val,pred,pos_label=1)\n",
    "recall = recall_score(y_val,pred,pos_label=1)\n",
    "f1 = f1_score(y_val,pred)\n",
    "acc  = accuracy_score(y_val,pred)\n",
    "\n",
    "pd.DataFrame([[prec,recall,f1,acc]],columns=['precision','recall','f1 score','accuracy']).T"
   ]
  },
  {
   "cell_type": "code",
   "execution_count": 457,
   "id": "4c6b6404",
   "metadata": {},
   "outputs": [
    {
     "data": {
      "text/plain": [
       "<sklearn.metrics._plot.confusion_matrix.ConfusionMatrixDisplay at 0x7f27ceb7a5b0>"
      ]
     },
     "execution_count": 457,
     "metadata": {},
     "output_type": "execute_result"
    },
    {
     "data": {
      "image/png": "[encoded data removed]",
      "text/plain": [
       "<Figure size 432x288 with 2 Axes>"
      ]
     },
     "metadata": {},
     "output_type": "display_data"
    }
   ],
   "source": [
    "cm = confusion_matrix(y_val, pred, labels=clf.classes_)\n",
    "disp = ConfusionMatrixDisplay(confusion_matrix=cm,\n",
    "                           display_labels=clf.classes_)\n",
    "disp.plot()"
   ]
  },
  {
   "cell_type": "markdown",
   "id": "e75267bb",
   "metadata": {},
   "source": [
    "### 3. LightGBM \n",
    "We are going to create our third and final model using **LightGBM**."
   ]
  },
  {
   "cell_type": "code",
   "execution_count": 381,
   "id": "97331add",
   "metadata": {},
   "outputs": [
    {
     "name": "stdout",
     "output_type": "stream",
     "text": [
      "Grid Search best score: 0.9312587654432238\n",
      "{'max_depth': 60, 'min_child_samples': 40, 'num_leaves': 300, 'scale_pos_weight': 3}\n"
     ]
    }
   ],
   "source": [
    "param_grid={\n",
    "    'max_depth':[60,70],\n",
    "    'num_leaves': [100,300],\n",
    "    'min_child_samples':[30,40],\n",
    "    'scale_pos_weight':[3,4]\n",
    "    }\n",
    "\n",
    "gs = GridSearchCV(LGBMClassifier(random_state=100), param_grid = param_grid,cv=5,scoring='f1')\n",
    "gs.fit(X_sampled_train,y_sampled_train)\n",
    "print(f\"Grid Search best score: {gs.best_score_}\")\n",
    "print(gs.best_params_)"
   ]
  },
  {
   "cell_type": "code",
   "execution_count": 427,
   "id": "0f79ebb6",
   "metadata": {},
   "outputs": [
    {
     "data": {
      "text/html": [
       "<div>\n",
       "<style scoped>\n",
       "    .dataframe tbody tr th:only-of-type {\n",
       "        vertical-align: middle;\n",
       "    }\n",
       "\n",
       "    .dataframe tbody tr th {\n",
       "        vertical-align: top;\n",
       "    }\n",
       "\n",
       "    .dataframe thead th {\n",
       "        text-align: right;\n",
       "    }\n",
       "</style>\n",
       "<table border=\"1\" class=\"dataframe\">\n",
       "  <thead>\n",
       "    <tr style=\"text-align: right;\">\n",
       "      <th></th>\n",
       "      <th>0</th>\n",
       "    </tr>\n",
       "  </thead>\n",
       "  <tbody>\n",
       "    <tr>\n",
       "      <th>precision</th>\n",
       "      <td>0.880354</td>\n",
       "    </tr>\n",
       "    <tr>\n",
       "      <th>recall</th>\n",
       "      <td>0.951350</td>\n",
       "    </tr>\n",
       "    <tr>\n",
       "      <th>f1 score</th>\n",
       "      <td>0.914476</td>\n",
       "    </tr>\n",
       "    <tr>\n",
       "      <th>accuracy</th>\n",
       "      <td>0.911027</td>\n",
       "    </tr>\n",
       "  </tbody>\n",
       "</table>\n",
       "</div>"
      ],
      "text/plain": [
       "                  0\n",
       "precision  0.880354\n",
       "recall     0.951350\n",
       "f1 score   0.914476\n",
       "accuracy   0.911027"
      ]
     },
     "execution_count": 427,
     "metadata": {},
     "output_type": "execute_result"
    }
   ],
   "source": [
    "lgb = LGBMClassifier(max_depth=60,min_child_samples=40,num_leaves=300, random_state=100,scale_pos_weight=3,learning_rate=0.01)\n",
    "lgb.fit(X_sampled_train,y_sampled_train);\n",
    "pred =  lgb.predict_proba(X_sampled_train)[:,1]>=0.5\n",
    "\n",
    "prec  = precision_score(y_sampled_train,pred,pos_label=1)\n",
    "recall  = recall_score(y_sampled_train,pred,pos_label=1)\n",
    "f1 = f1_score(y_sampled_train,pred)\n",
    "acc  = accuracy_score(y_sampled_train,pred)\n",
    "\n",
    "pd.DataFrame([[prec,recall,f1,acc]],columns=['precision','recall','f1 score','accuracy']).T"
   ]
  },
  {
   "cell_type": "markdown",
   "id": "1a703734",
   "metadata": {},
   "source": [
    "### Evaluating on the Validation set"
   ]
  },
  {
   "cell_type": "code",
   "execution_count": 429,
   "id": "f4c2d15d",
   "metadata": {},
   "outputs": [
    {
     "data": {
      "text/html": [
       "<div>\n",
       "<style scoped>\n",
       "    .dataframe tbody tr th:only-of-type {\n",
       "        vertical-align: middle;\n",
       "    }\n",
       "\n",
       "    .dataframe tbody tr th {\n",
       "        vertical-align: top;\n",
       "    }\n",
       "\n",
       "    .dataframe thead th {\n",
       "        text-align: right;\n",
       "    }\n",
       "</style>\n",
       "<table border=\"1\" class=\"dataframe\">\n",
       "  <thead>\n",
       "    <tr style=\"text-align: right;\">\n",
       "      <th></th>\n",
       "      <th>0</th>\n",
       "    </tr>\n",
       "  </thead>\n",
       "  <tbody>\n",
       "    <tr>\n",
       "      <th>precision</th>\n",
       "      <td>0.263538</td>\n",
       "    </tr>\n",
       "    <tr>\n",
       "      <th>recall</th>\n",
       "      <td>0.724566</td>\n",
       "    </tr>\n",
       "    <tr>\n",
       "      <th>f1 score</th>\n",
       "      <td>0.386499</td>\n",
       "    </tr>\n",
       "    <tr>\n",
       "      <th>accuracy</th>\n",
       "      <td>0.749933</td>\n",
       "    </tr>\n",
       "  </tbody>\n",
       "</table>\n",
       "</div>"
      ],
      "text/plain": [
       "                  0\n",
       "precision  0.263538\n",
       "recall     0.724566\n",
       "f1 score   0.386499\n",
       "accuracy   0.749933"
      ]
     },
     "execution_count": 429,
     "metadata": {},
     "output_type": "execute_result"
    }
   ],
   "source": [
    "val = pipeline.transform(X_val)\n",
    "pred = lgb.predict_proba(val)[:,1]>=0.4\n",
    "\n",
    "prec = precision_score(y_val,pred,pos_label=1)\n",
    "recall = recall_score(y_val,pred,pos_label=1)\n",
    "f1 = f1_score(y_val,pred)\n",
    "acc  = accuracy_score(y_val,pred)\n",
    "\n",
    "pd.DataFrame([[prec,recall,f1,acc]],columns=['precision','recall','f1 score','accuracy']).T"
   ]
  },
  {
   "cell_type": "code",
   "execution_count": 98,
   "id": "d5946314",
   "metadata": {},
   "outputs": [
    {
     "data": {
      "text/plain": [
       "<sklearn.metrics._plot.confusion_matrix.ConfusionMatrixDisplay at 0x7f27cff24070>"
      ]
     },
     "execution_count": 98,
     "metadata": {},
     "output_type": "execute_result"
    },
    {
     "data": {
      "image/png": "[encoded data removed]",
      "text/plain": [
       "<Figure size 432x288 with 2 Axes>"
      ]
     },
     "metadata": {},
     "output_type": "display_data"
    }
   ],
   "source": [
    "cm = confusion_matrix(y_val, pred, labels=log.classes_)\n",
    "disp = ConfusionMatrixDisplay(confusion_matrix=cm,\n",
    "                           display_labels=log.classes_)\n",
    "disp.plot()"
   ]
  },
  {
   "cell_type": "markdown",
   "id": "48e80b96",
   "metadata": {},
   "source": [
    "### Evaluating on the test set\n",
    "Though the logistic regression model has the highest recall in the validation set, the low f1 score and accuracy made us go with the LightGBM model as our model of choice."
   ]
  },
  {
   "cell_type": "code",
   "execution_count": 453,
   "id": "0f4a24c8",
   "metadata": {},
   "outputs": [
    {
     "data": {
      "text/html": [
       "<div>\n",
       "<style scoped>\n",
       "    .dataframe tbody tr th:only-of-type {\n",
       "        vertical-align: middle;\n",
       "    }\n",
       "\n",
       "    .dataframe tbody tr th {\n",
       "        vertical-align: top;\n",
       "    }\n",
       "\n",
       "    .dataframe thead th {\n",
       "        text-align: right;\n",
       "    }\n",
       "</style>\n",
       "<table border=\"1\" class=\"dataframe\">\n",
       "  <thead>\n",
       "    <tr style=\"text-align: right;\">\n",
       "      <th></th>\n",
       "      <th>logistic</th>\n",
       "      <th>random forest</th>\n",
       "      <th>lightGBM</th>\n",
       "    </tr>\n",
       "  </thead>\n",
       "  <tbody>\n",
       "    <tr>\n",
       "      <th>precision</th>\n",
       "      <td>0.189975</td>\n",
       "      <td>0.282238</td>\n",
       "      <td>0.283200</td>\n",
       "    </tr>\n",
       "    <tr>\n",
       "      <th>recall</th>\n",
       "      <td>0.799578</td>\n",
       "      <td>0.734177</td>\n",
       "      <td>0.746835</td>\n",
       "    </tr>\n",
       "    <tr>\n",
       "      <th>f1 score</th>\n",
       "      <td>0.307007</td>\n",
       "      <td>0.407733</td>\n",
       "      <td>0.410673</td>\n",
       "    </tr>\n",
       "    <tr>\n",
       "      <th>accuracy</th>\n",
       "      <td>0.584608</td>\n",
       "      <td>0.754552</td>\n",
       "      <td>0.753338</td>\n",
       "    </tr>\n",
       "  </tbody>\n",
       "</table>\n",
       "</div>"
      ],
      "text/plain": [
       "           logistic  random forest  lightGBM\n",
       "precision  0.189975       0.282238  0.283200\n",
       "recall     0.799578       0.734177  0.746835\n",
       "f1 score   0.307007       0.407733  0.410673\n",
       "accuracy   0.584608       0.754552  0.753338"
      ]
     },
     "execution_count": 453,
     "metadata": {},
     "output_type": "execute_result"
    }
   ],
   "source": [
    "Xt = pipeline.transform(X_test)\n",
    "log_pred = log.predict_proba(Xt)[:,1]>=0.4\n",
    "rf_pred = clf.predict_proba(Xt)[:,1] >= 0.43\n",
    "lgb_pred = lgb.predict_proba(Xt)[:,1]>=0.4\n",
    "\n",
    "rf_prec = precision_score(y_test,rf_pred,pos_label=1)\n",
    "rf_recall = recall_score(y_test,rf_pred,pos_label=1)\n",
    "rf_f1 = f1_score(y_test,rf_pred)\n",
    "rf_acc  = accuracy_score(y_test,rf_pred)\n",
    "\n",
    "log_prec = precision_score(y_test,log_pred,pos_label=1)\n",
    "log_recall = recall_score(y_test,log_pred,pos_label=1)\n",
    "log_f1 = f1_score(y_test,log_pred)\n",
    "log_acc  = accuracy_score(y_test,log_pred)\n",
    "\n",
    "lgb_prec = precision_score(y_test,lgb_pred,pos_label=1)\n",
    "lgb_recall = recall_score(y_test,lgb_pred,pos_label=1)\n",
    "lgb_f1 = f1_score(y_test,lgb_pred)\n",
    "lgb_acc  = accuracy_score(y_test,lgb_pred)\n",
    "\n",
    "pd.DataFrame([[log_prec,log_recall,log_f1,log_acc],\n",
    "             [rf_prec,rf_recall,rf_f1,rf_acc],\n",
    "              [lgb_prec,lgb_recall,lgb_f1,lgb_acc]]\n",
    "             ,columns=['precision','recall','f1 score','accuracy']\n",
    "             ,index=['logistic','random forest','lightGBM']).T"
   ]
  }
 ],
 "metadata": {
  "kernelspec": {
   "display_name": "Python 3 (ipykernel)",
   "language": "python",
   "name": "python3"
  },
  "language_info": {
   "codemirror_mode": {
    "name": "ipython",
    "version": 3
   },
   "file_extension": ".py",
   "mimetype": "text/x-python",
   "name": "python",
   "nbconvert_exporter": "python",
   "pygments_lexer": "ipython3",
   "version": "3.9.7"
  }
 },
 "nbformat": 4,
 "nbformat_minor": 5
}
